{
 "cells": [
  {
   "cell_type": "code",
   "execution_count": 1,
   "metadata": {},
   "outputs": [],
   "source": [
    "# import libraries\n",
    "\n",
    "import pandas as pd\n",
    "import matplotlib.pyplot as plt"
   ]
  },
  {
   "cell_type": "code",
   "execution_count": 2,
   "metadata": {},
   "outputs": [],
   "source": [
    "import pandas as pd\n",
    "import matplotlib.pyplot as plt\n",
    "\n",
    "# Step 1: Load the Data with explicit encoding\n",
    "answers_df = pd.read_csv('Answers.csv', encoding='latin1')\n",
    "questions_df = pd.read_csv('Questions.csv', encoding='latin1')\n",
    "tags_df = pd.read_csv('Tags.csv', encoding='latin1')"
   ]
  },
  {
   "cell_type": "code",
   "execution_count": 3,
   "metadata": {},
   "outputs": [
    {
     "name": "stdout",
     "output_type": "stream",
     "text": [
      "Answers Data:\n",
      "    Id  OwnerUserId          CreationDate  ParentId  Score  \\\n",
      "0  497         50.0  2008-08-02T16:56:53Z       469      4   \n",
      "1  518        153.0  2008-08-02T17:42:28Z       469      2   \n",
      "2  536        161.0  2008-08-02T18:49:07Z       502      9   \n",
      "3  538        156.0  2008-08-02T18:56:56Z       535     23   \n",
      "4  541        157.0  2008-08-02T19:06:40Z       535     20   \n",
      "\n",
      "                                                Body  \n",
      "0  <p>open up a terminal (Applications-&gt;Utilit...  \n",
      "1  <p>I haven't been able to find anything that d...  \n",
      "2  <p>You can use ImageMagick's convert utility f...  \n",
      "3  <p>One possibility is Hudson.  It's written in...  \n",
      "4  <p>We run <a href=\"http://buildbot.net/trac\">B...  \n",
      "\n",
      "Questions Data:\n",
      "    Id  OwnerUserId          CreationDate  Score  \\\n",
      "0  469        147.0  2008-08-02T15:11:16Z     21   \n",
      "1  502        147.0  2008-08-02T17:01:58Z     27   \n",
      "2  535        154.0  2008-08-02T18:43:54Z     40   \n",
      "3  594        116.0  2008-08-03T01:15:08Z     25   \n",
      "4  683        199.0  2008-08-03T13:19:16Z     28   \n",
      "\n",
      "                                               Title  \\\n",
      "0  How can I find the full path to a font from it...   \n",
      "1            Get a preview JPEG of a PDF on Windows?   \n",
      "2  Continuous Integration System for a Python Cod...   \n",
      "3     cx_Oracle: How do I iterate over a result set?   \n",
      "4  Using 'in' to match an attribute of Python obj...   \n",
      "\n",
      "                                                Body  \n",
      "0  <p>I am using the Photoshop's javascript API t...  \n",
      "1  <p>I have a cross-platform (Python) applicatio...  \n",
      "2  <p>I'm starting work on a hobby project with a...  \n",
      "3  <p>There are several ways to iterate over a re...  \n",
      "4  <p>I don't remember whether I was dreaming or ...  \n",
      "\n",
      "Tags Data:\n",
      "    Id        Tag\n",
      "0  469     python\n",
      "1  469        osx\n",
      "2  469      fonts\n",
      "3  469  photoshop\n",
      "4  502     python\n"
     ]
    }
   ],
   "source": [
    "# Step 2: Data Exploration\n",
    "# Explore Answers.csv\n",
    "print(\"Answers Data:\")\n",
    "print(answers_df.head())\n",
    "\n",
    "# Explore Questions.csv\n",
    "print(\"\\nQuestions Data:\")\n",
    "print(questions_df.head())\n",
    "\n",
    "# Explore Tags.csv\n",
    "print(\"\\nTags Data:\")\n",
    "print(tags_df.head())"
   ]
  },
  {
   "cell_type": "code",
   "execution_count": 4,
   "metadata": {},
   "outputs": [
    {
     "name": "stdout",
     "output_type": "stream",
     "text": [
      "Answers Data - Missing Values:\n",
      "Id                 0\n",
      "OwnerUserId     5367\n",
      "CreationDate       0\n",
      "ParentId           0\n",
      "Score              0\n",
      "Body               0\n",
      "dtype: int64\n",
      "\n",
      "Questions Data - Missing Values:\n",
      "Id                 0\n",
      "OwnerUserId     6212\n",
      "CreationDate       0\n",
      "Score              0\n",
      "Title              0\n",
      "Body               0\n",
      "dtype: int64\n",
      "\n",
      "Tags Data - Missing Values:\n",
      "Id       0\n",
      "Tag    443\n",
      "dtype: int64\n"
     ]
    }
   ],
   "source": [
    "# Step 3: Data Cleaning\n",
    "\n",
    "# Check for missing values in each DataFrame\n",
    "print(\"Answers Data - Missing Values:\")\n",
    "print(answers_df.isnull().sum())\n",
    "\n",
    "print(\"\\nQuestions Data - Missing Values:\")\n",
    "print(questions_df.isnull().sum())\n",
    "\n",
    "print(\"\\nTags Data - Missing Values:\")\n",
    "print(tags_df.isnull().sum())"
   ]
  },
  {
   "cell_type": "code",
   "execution_count": 5,
   "metadata": {},
   "outputs": [],
   "source": [
    "# Handling Missing Values\n",
    "\n",
    "# Handle missing values in 'OwnerUserId' in Answers and Questions DataFrames\n",
    "answers_df['OwnerUserId'].fillna(-1, inplace=True)  # Replacing with -1\n",
    "questions_df['OwnerUserId'].fillna(-1, inplace=True)"
   ]
  },
  {
   "cell_type": "code",
   "execution_count": 6,
   "metadata": {},
   "outputs": [],
   "source": [
    "# Handle missing values in 'Tag' in Tags DataFrame\n",
    "tags_df['Tag'].fillna('Unknown', inplace=True)  # Replace with 'Unknown' as an example"
   ]
  },
  {
   "cell_type": "code",
   "execution_count": 7,
   "metadata": {},
   "outputs": [
    {
     "name": "stdout",
     "output_type": "stream",
     "text": [
      "\n",
      "Answers Data - Missing Values After Handling:\n",
      "Id              0\n",
      "OwnerUserId     0\n",
      "CreationDate    0\n",
      "ParentId        0\n",
      "Score           0\n",
      "Body            0\n",
      "dtype: int64\n",
      "\n",
      "Questions Data - Missing Values After Handling:\n",
      "Id              0\n",
      "OwnerUserId     0\n",
      "CreationDate    0\n",
      "Score           0\n",
      "Title           0\n",
      "Body            0\n",
      "dtype: int64\n",
      "\n",
      "Tags Data - Missing Values After Handling:\n",
      "Id     0\n",
      "Tag    0\n",
      "dtype: int64\n"
     ]
    }
   ],
   "source": [
    "# Verify that missing values are handled\n",
    "print(\"\\nAnswers Data - Missing Values After Handling:\")\n",
    "print(answers_df.isnull().sum())\n",
    "\n",
    "print(\"\\nQuestions Data - Missing Values After Handling:\")\n",
    "print(questions_df.isnull().sum())\n",
    "\n",
    "print(\"\\nTags Data - Missing Values After Handling:\")\n",
    "print(tags_df.isnull().sum())"
   ]
  },
  {
   "cell_type": "code",
   "execution_count": 8,
   "metadata": {},
   "outputs": [
    {
     "name": "stdout",
     "output_type": "stream",
     "text": [
      "\n",
      "Answers Data - Missing Values After Handling:\n",
      "Id              0\n",
      "OwnerUserId     0\n",
      "CreationDate    0\n",
      "ParentId        0\n",
      "Score           0\n",
      "Body            0\n",
      "dtype: int64\n"
     ]
    }
   ],
   "source": [
    "# Convert data types as needed\n",
    "# Example: Convert 'CreationDate' columns to datetime objects\n",
    "answers_df['CreationDate'] = pd.to_datetime(answers_df['CreationDate'])\n",
    "questions_df['CreationDate'] = pd.to_datetime(questions_df['CreationDate'])\n",
    "\n",
    "# Remove duplicates if applicable\n",
    "# Example: Remove duplicate rows from Answers DataFrame\n",
    "answers_df.drop_duplicates(inplace=True)\n",
    "\n",
    "# Check for missing values again to ensure they are handled\n",
    "print(\"\\nAnswers Data - Missing Values After Handling:\")\n",
    "print(answers_df.isnull().sum())"
   ]
  },
  {
   "cell_type": "code",
   "execution_count": 9,
   "metadata": {},
   "outputs": [
    {
     "name": "stdout",
     "output_type": "stream",
     "text": [
      "Merged DataFrame:\n",
      "     Id_x  OwnerUserId_x            CreationDate_x  ParentId  Score_x  \\\n",
      "0     497           50.0 2008-08-02 16:56:53+00:00       469        4   \n",
      "1     518          153.0 2008-08-02 17:42:28+00:00       469        2   \n",
      "2    3040          457.0 2008-08-06 03:01:23+00:00       469       12   \n",
      "3  195170          745.0 2008-10-12 07:02:40+00:00       469        1   \n",
      "4     536          161.0 2008-08-02 18:49:07+00:00       502        9   \n",
      "\n",
      "                                              Body_x  Id_y  OwnerUserId_y  \\\n",
      "0  <p>open up a terminal (Applications-&gt;Utilit...   469          147.0   \n",
      "1  <p>I haven't been able to find anything that d...   469          147.0   \n",
      "2  <p>Unfortunately the only API that isn't depre...   469          147.0   \n",
      "3  <p>There must be a method in Cocoa to get a li...   469          147.0   \n",
      "4  <p>You can use ImageMagick's convert utility f...   502          147.0   \n",
      "\n",
      "             CreationDate_y  Score_y  \\\n",
      "0 2008-08-02 15:11:16+00:00       21   \n",
      "1 2008-08-02 15:11:16+00:00       21   \n",
      "2 2008-08-02 15:11:16+00:00       21   \n",
      "3 2008-08-02 15:11:16+00:00       21   \n",
      "4 2008-08-02 17:01:58+00:00       27   \n",
      "\n",
      "                                               Title  \\\n",
      "0  How can I find the full path to a font from it...   \n",
      "1  How can I find the full path to a font from it...   \n",
      "2  How can I find the full path to a font from it...   \n",
      "3  How can I find the full path to a font from it...   \n",
      "4            Get a preview JPEG of a PDF on Windows?   \n",
      "\n",
      "                                              Body_y  \n",
      "0  <p>I am using the Photoshop's javascript API t...  \n",
      "1  <p>I am using the Photoshop's javascript API t...  \n",
      "2  <p>I am using the Photoshop's javascript API t...  \n",
      "3  <p>I am using the Photoshop's javascript API t...  \n",
      "4  <p>I have a cross-platform (Python) applicatio...  \n"
     ]
    }
   ],
   "source": [
    "# Merging answers_df and questions_df\n",
    "merged_df = pd.merge(answers_df, questions_df, left_on='ParentId', right_on='Id', how='inner')\n",
    "\n",
    "# Check the merged DataFrame\n",
    "print(\"Merged DataFrame:\")\n",
    "print(merged_df.head())\n",
    "\n",
    "# Now we have a merged DataFrame containing both answers and their corresponding questions."
   ]
  },
  {
   "cell_type": "code",
   "execution_count": 10,
   "metadata": {},
   "outputs": [
    {
     "name": "stdout",
     "output_type": "stream",
     "text": [
      "Top 10 Most Popular Tags:\n",
      "python        607283\n",
      "django         62818\n",
      "python-2.7     34616\n",
      "pandas         26854\n",
      "python-3.x     26814\n",
      "numpy          25848\n",
      "list           18951\n",
      "matplotlib     16521\n",
      "regex          14047\n",
      "dictionary     13413\n",
      "Name: Tag, dtype: int64\n"
     ]
    },
    {
     "data": {
      "image/png": "[encoded data removed]",
      "text/plain": [
       "<Figure size 1000x600 with 1 Axes>"
      ]
     },
     "metadata": {},
     "output_type": "display_data"
    }
   ],
   "source": [
    "# Count the frequency of each tag\n",
    "tag_counts = tags_df['Tag'].value_counts()\n",
    "\n",
    "# Print the top N most popular tags (adjust N as needed)\n",
    "top_tags = tag_counts.head(10)\n",
    "\n",
    "# Printing results\n",
    "print(\"Top 10 Most Popular Tags:\")\n",
    "print(top_tags)\n",
    "\n",
    "# we can also visualize the results using a bar chart\n",
    "import matplotlib.pyplot as plt\n",
    "\n",
    "top_tags.plot(kind='bar', figsize=(10, 6))\n",
    "plt.title('Top 10 Most Popular Tags')\n",
    "plt.xlabel('Tag')\n",
    "plt.ylabel('Count')\n",
    "plt.show()"
   ]
  },
  {
   "cell_type": "code",
   "execution_count": null,
   "metadata": {},
   "outputs": [],
   "source": []
  },
  {
   "cell_type": "code",
   "execution_count": 11,
   "metadata": {},
   "outputs": [
    {
     "name": "stdout",
     "output_type": "stream",
     "text": [
      "Collecting transformers\n",
      "  Downloading transformers-4.34.0-py3-none-any.whl (7.7 MB)\n",
      "     ---------------------------------------- 7.7/7.7 MB 7.9 MB/s eta 0:00:00\n",
      "Requirement already satisfied: packaging>=20.0 in c:\\users\\mahbub\\anaconda3\\lib\\site-packages (from transformers) (21.3)\n",
      "Collecting tokenizers<0.15,>=0.14\n",
      "  Downloading tokenizers-0.14.1-cp39-none-win_amd64.whl (2.2 MB)\n",
      "     ---------------------------------------- 2.2/2.2 MB 9.3 MB/s eta 0:00:00\n",
      "Collecting safetensors>=0.3.1\n",
      "  Downloading safetensors-0.4.0-cp39-none-win_amd64.whl (277 kB)\n",
      "     ---------------------------------------- 277.2/277.2 kB ? eta 0:00:00\n",
      "Requirement already satisfied: pyyaml>=5.1 in c:\\users\\mahbub\\anaconda3\\lib\\site-packages (from transformers) (6.0)\n",
      "Requirement already satisfied: requests in c:\\users\\mahbub\\anaconda3\\lib\\site-packages (from transformers) (2.28.1)\n",
      "Requirement already satisfied: filelock in c:\\users\\mahbub\\anaconda3\\lib\\site-packages (from transformers) (3.6.0)\n",
      "Requirement already satisfied: regex!=2019.12.17 in c:\\users\\mahbub\\anaconda3\\lib\\site-packages (from transformers) (2022.7.9)\n",
      "Requirement already satisfied: numpy>=1.17 in c:\\users\\mahbub\\anaconda3\\lib\\site-packages (from transformers) (1.21.5)\n",
      "Collecting huggingface-hub<1.0,>=0.16.4\n",
      "  Downloading huggingface_hub-0.17.3-py3-none-any.whl (295 kB)\n",
      "     -------------------------------------- 295.0/295.0 kB 6.1 MB/s eta 0:00:00\n",
      "Requirement already satisfied: tqdm>=4.27 in c:\\users\\mahbub\\anaconda3\\lib\\site-packages (from transformers) (4.64.1)\n",
      "Requirement already satisfied: typing-extensions>=3.7.4.3 in c:\\users\\mahbub\\anaconda3\\lib\\site-packages (from huggingface-hub<1.0,>=0.16.4->transformers) (4.3.0)\n",
      "Requirement already satisfied: fsspec in c:\\users\\mahbub\\anaconda3\\lib\\site-packages (from huggingface-hub<1.0,>=0.16.4->transformers) (2022.7.1)\n",
      "Requirement already satisfied: pyparsing!=3.0.5,>=2.0.2 in c:\\users\\mahbub\\anaconda3\\lib\\site-packages (from packaging>=20.0->transformers) (3.0.9)\n",
      "Requirement already satisfied: colorama in c:\\users\\mahbub\\anaconda3\\lib\\site-packages (from tqdm>=4.27->transformers) (0.4.5)\n",
      "Requirement already satisfied: idna<4,>=2.5 in c:\\users\\mahbub\\anaconda3\\lib\\site-packages (from requests->transformers) (3.3)\n",
      "Requirement already satisfied: charset-normalizer<3,>=2 in c:\\users\\mahbub\\anaconda3\\lib\\site-packages (from requests->transformers) (2.0.4)\n",
      "Requirement already satisfied: urllib3<1.27,>=1.21.1 in c:\\users\\mahbub\\anaconda3\\lib\\site-packages (from requests->transformers) (1.26.11)\n",
      "Requirement already satisfied: certifi>=2017.4.17 in c:\\users\\mahbub\\anaconda3\\lib\\site-packages (from requests->transformers) (2022.9.14)\n",
      "Installing collected packages: safetensors, huggingface-hub, tokenizers, transformers\n",
      "Successfully installed huggingface-hub-0.17.3 safetensors-0.4.0 tokenizers-0.14.1 transformers-4.34.0\n"
     ]
    }
   ],
   "source": [
    "!pip install transformers"
   ]
  },
  {
   "cell_type": "code",
   "execution_count": 17,
   "metadata": {},
   "outputs": [],
   "source": [
    "from transformers import BertTokenizer\n",
    "import torch\n",
    "from torch.utils.data import TensorDataset, DataLoader"
   ]
  },
  {
   "cell_type": "code",
   "execution_count": 21,
   "metadata": {},
   "outputs": [
    {
     "name": "stdout",
     "output_type": "stream",
     "text": [
      "Requirement already satisfied: torch in c:\\users\\mahbub\\anaconda3\\lib\\site-packages (2.1.0)\n",
      "Requirement already satisfied: filelock in c:\\users\\mahbub\\anaconda3\\lib\\site-packages (from torch) (3.6.0)\n",
      "Requirement already satisfied: sympy in c:\\users\\mahbub\\anaconda3\\lib\\site-packages (from torch) (1.10.1)\n",
      "Requirement already satisfied: networkx in c:\\users\\mahbub\\anaconda3\\lib\\site-packages (from torch) (2.8.4)\n",
      "Requirement already satisfied: fsspec in c:\\users\\mahbub\\anaconda3\\lib\\site-packages (from torch) (2022.7.1)\n",
      "Requirement already satisfied: jinja2 in c:\\users\\mahbub\\anaconda3\\lib\\site-packages (from torch) (2.11.3)\n",
      "Requirement already satisfied: typing-extensions in c:\\users\\mahbub\\anaconda3\\lib\\site-packages (from torch) (4.3.0)\n",
      "Requirement already satisfied: MarkupSafe>=0.23 in c:\\users\\mahbub\\anaconda3\\lib\\site-packages (from jinja2->torch) (2.0.1)\n",
      "Requirement already satisfied: mpmath>=0.19 in c:\\users\\mahbub\\anaconda3\\lib\\site-packages (from sympy->torch) (1.2.1)\n"
     ]
    }
   ],
   "source": [
    "!pip install torch"
   ]
  },
  {
   "cell_type": "code",
   "execution_count": 18,
   "metadata": {},
   "outputs": [
    {
     "data": {
      "application/vnd.jupyter.widget-view+json": {
       "model_id": "edfdb11032064a2b835c4817adfc6ca2",
       "version_major": 2,
       "version_minor": 0
      },
      "text/plain": [
       "Downloading (…)okenizer_config.json:   0%|          | 0.00/28.0 [00:00<?, ?B/s]"
      ]
     },
     "metadata": {},
     "output_type": "display_data"
    },
    {
     "name": "stderr",
     "output_type": "stream",
     "text": [
      "C:\\Users\\mahbub\\anaconda3\\lib\\site-packages\\huggingface_hub\\file_download.py:137: UserWarning: `huggingface_hub` cache-system uses symlinks by default to efficiently store duplicated files but your machine does not support them in C:\\Users\\mahbub\\.cache\\huggingface\\hub. Caching files will still work but in a degraded version that might require more space on your disk. This warning can be disabled by setting the `HF_HUB_DISABLE_SYMLINKS_WARNING` environment variable. For more details, see https://huggingface.co/docs/huggingface_hub/how-to-cache#limitations.\n",
      "To support symlinks on Windows, you either need to activate Developer Mode or to run Python as an administrator. In order to see activate developer mode, see this article: https://docs.microsoft.com/en-us/windows/apps/get-started/enable-your-device-for-development\n",
      "  warnings.warn(message)\n"
     ]
    },
    {
     "data": {
      "application/vnd.jupyter.widget-view+json": {
       "model_id": "9e2cd2b2dc9b4303aa89e50215634b8d",
       "version_major": 2,
       "version_minor": 0
      },
      "text/plain": [
       "Downloading (…)solve/main/vocab.txt:   0%|          | 0.00/232k [00:00<?, ?B/s]"
      ]
     },
     "metadata": {},
     "output_type": "display_data"
    },
    {
     "data": {
      "application/vnd.jupyter.widget-view+json": {
       "model_id": "7f82b2121c334e029c5366bd3622d181",
       "version_major": 2,
       "version_minor": 0
      },
      "text/plain": [
       "Downloading (…)/main/tokenizer.json:   0%|          | 0.00/466k [00:00<?, ?B/s]"
      ]
     },
     "metadata": {},
     "output_type": "display_data"
    },
    {
     "data": {
      "application/vnd.jupyter.widget-view+json": {
       "model_id": "003affa296e34f33b493ffaf74f4339d",
       "version_major": 2,
       "version_minor": 0
      },
      "text/plain": [
       "Downloading (…)lve/main/config.json:   0%|          | 0.00/570 [00:00<?, ?B/s]"
      ]
     },
     "metadata": {},
     "output_type": "display_data"
    }
   ],
   "source": [
    "# Initialize the BERT tokenizer\n",
    "tokenizer = BertTokenizer.from_pretrained('bert-base-uncased')"
   ]
  },
  {
   "cell_type": "code",
   "execution_count": 19,
   "metadata": {},
   "outputs": [],
   "source": [
    "text_data = merged_df['Body_x'].tolist()"
   ]
  },
  {
   "cell_type": "code",
   "execution_count": 22,
   "metadata": {},
   "outputs": [
    {
     "ename": "ImportError",
     "evalue": "Unable to convert output to PyTorch tensors format, PyTorch is not installed.",
     "output_type": "error",
     "traceback": [
      "\u001b[1;31m---------------------------------------------------------------------------\u001b[0m",
      "\u001b[1;31mImportError\u001b[0m                               Traceback (most recent call last)",
      "\u001b[1;32m~\\AppData\\Local\\Temp\\ipykernel_4820\\3811265246.py\u001b[0m in \u001b[0;36m<module>\u001b[1;34m\u001b[0m\n\u001b[0;32m      3\u001b[0m \u001b[1;33m\u001b[0m\u001b[0m\n\u001b[0;32m      4\u001b[0m \u001b[1;32mfor\u001b[0m \u001b[0mtext\u001b[0m \u001b[1;32min\u001b[0m \u001b[0mtext_data\u001b[0m\u001b[1;33m:\u001b[0m\u001b[1;33m\u001b[0m\u001b[1;33m\u001b[0m\u001b[0m\n\u001b[1;32m----> 5\u001b[1;33m     encoded_text = tokenizer.encode_plus(\n\u001b[0m\u001b[0;32m      6\u001b[0m         \u001b[0mtext\u001b[0m\u001b[1;33m,\u001b[0m\u001b[1;33m\u001b[0m\u001b[1;33m\u001b[0m\u001b[0m\n\u001b[0;32m      7\u001b[0m         \u001b[0madd_special_tokens\u001b[0m\u001b[1;33m=\u001b[0m\u001b[1;32mTrue\u001b[0m\u001b[1;33m,\u001b[0m\u001b[1;33m\u001b[0m\u001b[1;33m\u001b[0m\u001b[0m\n",
      "\u001b[1;32m~\\anaconda3\\lib\\site-packages\\transformers\\tokenization_utils_base.py\u001b[0m in \u001b[0;36mencode_plus\u001b[1;34m(self, text, text_pair, add_special_tokens, padding, truncation, max_length, stride, is_split_into_words, pad_to_multiple_of, return_tensors, return_token_type_ids, return_attention_mask, return_overflowing_tokens, return_special_tokens_mask, return_offsets_mapping, return_length, verbose, **kwargs)\u001b[0m\n\u001b[0;32m   2983\u001b[0m         )\n\u001b[0;32m   2984\u001b[0m \u001b[1;33m\u001b[0m\u001b[0m\n\u001b[1;32m-> 2985\u001b[1;33m         return self._encode_plus(\n\u001b[0m\u001b[0;32m   2986\u001b[0m             \u001b[0mtext\u001b[0m\u001b[1;33m=\u001b[0m\u001b[0mtext\u001b[0m\u001b[1;33m,\u001b[0m\u001b[1;33m\u001b[0m\u001b[1;33m\u001b[0m\u001b[0m\n\u001b[0;32m   2987\u001b[0m             \u001b[0mtext_pair\u001b[0m\u001b[1;33m=\u001b[0m\u001b[0mtext_pair\u001b[0m\u001b[1;33m,\u001b[0m\u001b[1;33m\u001b[0m\u001b[1;33m\u001b[0m\u001b[0m\n",
      "\u001b[1;32m~\\anaconda3\\lib\\site-packages\\transformers\\tokenization_utils.py\u001b[0m in \u001b[0;36m_encode_plus\u001b[1;34m(self, text, text_pair, add_special_tokens, padding_strategy, truncation_strategy, max_length, stride, is_split_into_words, pad_to_multiple_of, return_tensors, return_token_type_ids, return_attention_mask, return_overflowing_tokens, return_special_tokens_mask, return_offsets_mapping, return_length, verbose, **kwargs)\u001b[0m\n\u001b[0;32m    709\u001b[0m         \u001b[0msecond_ids\u001b[0m \u001b[1;33m=\u001b[0m \u001b[0mget_input_ids\u001b[0m\u001b[1;33m(\u001b[0m\u001b[0mtext_pair\u001b[0m\u001b[1;33m)\u001b[0m \u001b[1;32mif\u001b[0m \u001b[0mtext_pair\u001b[0m \u001b[1;32mis\u001b[0m \u001b[1;32mnot\u001b[0m \u001b[1;32mNone\u001b[0m \u001b[1;32melse\u001b[0m \u001b[1;32mNone\u001b[0m\u001b[1;33m\u001b[0m\u001b[1;33m\u001b[0m\u001b[0m\n\u001b[0;32m    710\u001b[0m \u001b[1;33m\u001b[0m\u001b[0m\n\u001b[1;32m--> 711\u001b[1;33m         return self.prepare_for_model(\n\u001b[0m\u001b[0;32m    712\u001b[0m             \u001b[0mfirst_ids\u001b[0m\u001b[1;33m,\u001b[0m\u001b[1;33m\u001b[0m\u001b[1;33m\u001b[0m\u001b[0m\n\u001b[0;32m    713\u001b[0m             \u001b[0mpair_ids\u001b[0m\u001b[1;33m=\u001b[0m\u001b[0msecond_ids\u001b[0m\u001b[1;33m,\u001b[0m\u001b[1;33m\u001b[0m\u001b[1;33m\u001b[0m\u001b[0m\n",
      "\u001b[1;32m~\\anaconda3\\lib\\site-packages\\transformers\\tokenization_utils_base.py\u001b[0m in \u001b[0;36mprepare_for_model\u001b[1;34m(self, ids, pair_ids, add_special_tokens, padding, truncation, max_length, stride, pad_to_multiple_of, return_tensors, return_token_type_ids, return_attention_mask, return_overflowing_tokens, return_special_tokens_mask, return_offsets_mapping, return_length, verbose, prepend_batch_axis, **kwargs)\u001b[0m\n\u001b[0;32m   3473\u001b[0m             \u001b[0mencoded_inputs\u001b[0m\u001b[1;33m[\u001b[0m\u001b[1;34m\"length\"\u001b[0m\u001b[1;33m]\u001b[0m \u001b[1;33m=\u001b[0m \u001b[0mlen\u001b[0m\u001b[1;33m(\u001b[0m\u001b[0mencoded_inputs\u001b[0m\u001b[1;33m[\u001b[0m\u001b[1;34m\"input_ids\"\u001b[0m\u001b[1;33m]\u001b[0m\u001b[1;33m)\u001b[0m\u001b[1;33m\u001b[0m\u001b[1;33m\u001b[0m\u001b[0m\n\u001b[0;32m   3474\u001b[0m \u001b[1;33m\u001b[0m\u001b[0m\n\u001b[1;32m-> 3475\u001b[1;33m         batch_outputs = BatchEncoding(\n\u001b[0m\u001b[0;32m   3476\u001b[0m             \u001b[0mencoded_inputs\u001b[0m\u001b[1;33m,\u001b[0m \u001b[0mtensor_type\u001b[0m\u001b[1;33m=\u001b[0m\u001b[0mreturn_tensors\u001b[0m\u001b[1;33m,\u001b[0m \u001b[0mprepend_batch_axis\u001b[0m\u001b[1;33m=\u001b[0m\u001b[0mprepend_batch_axis\u001b[0m\u001b[1;33m\u001b[0m\u001b[1;33m\u001b[0m\u001b[0m\n\u001b[0;32m   3477\u001b[0m         )\n",
      "\u001b[1;32m~\\anaconda3\\lib\\site-packages\\transformers\\tokenization_utils_base.py\u001b[0m in \u001b[0;36m__init__\u001b[1;34m(self, data, encoding, tensor_type, prepend_batch_axis, n_sequences)\u001b[0m\n\u001b[0;32m    221\u001b[0m         \u001b[0mself\u001b[0m\u001b[1;33m.\u001b[0m\u001b[0m_n_sequences\u001b[0m \u001b[1;33m=\u001b[0m \u001b[0mn_sequences\u001b[0m\u001b[1;33m\u001b[0m\u001b[1;33m\u001b[0m\u001b[0m\n\u001b[0;32m    222\u001b[0m \u001b[1;33m\u001b[0m\u001b[0m\n\u001b[1;32m--> 223\u001b[1;33m         \u001b[0mself\u001b[0m\u001b[1;33m.\u001b[0m\u001b[0mconvert_to_tensors\u001b[0m\u001b[1;33m(\u001b[0m\u001b[0mtensor_type\u001b[0m\u001b[1;33m=\u001b[0m\u001b[0mtensor_type\u001b[0m\u001b[1;33m,\u001b[0m \u001b[0mprepend_batch_axis\u001b[0m\u001b[1;33m=\u001b[0m\u001b[0mprepend_batch_axis\u001b[0m\u001b[1;33m)\u001b[0m\u001b[1;33m\u001b[0m\u001b[1;33m\u001b[0m\u001b[0m\n\u001b[0m\u001b[0;32m    224\u001b[0m \u001b[1;33m\u001b[0m\u001b[0m\n\u001b[0;32m    225\u001b[0m     \u001b[1;33m@\u001b[0m\u001b[0mproperty\u001b[0m\u001b[1;33m\u001b[0m\u001b[1;33m\u001b[0m\u001b[0m\n",
      "\u001b[1;32m~\\anaconda3\\lib\\site-packages\\transformers\\tokenization_utils_base.py\u001b[0m in \u001b[0;36mconvert_to_tensors\u001b[1;34m(self, tensor_type, prepend_batch_axis)\u001b[0m\n\u001b[0;32m    710\u001b[0m         \u001b[1;32melif\u001b[0m \u001b[0mtensor_type\u001b[0m \u001b[1;33m==\u001b[0m \u001b[0mTensorType\u001b[0m\u001b[1;33m.\u001b[0m\u001b[0mPYTORCH\u001b[0m\u001b[1;33m:\u001b[0m\u001b[1;33m\u001b[0m\u001b[1;33m\u001b[0m\u001b[0m\n\u001b[0;32m    711\u001b[0m             \u001b[1;32mif\u001b[0m \u001b[1;32mnot\u001b[0m \u001b[0mis_torch_available\u001b[0m\u001b[1;33m(\u001b[0m\u001b[1;33m)\u001b[0m\u001b[1;33m:\u001b[0m\u001b[1;33m\u001b[0m\u001b[1;33m\u001b[0m\u001b[0m\n\u001b[1;32m--> 712\u001b[1;33m                 \u001b[1;32mraise\u001b[0m \u001b[0mImportError\u001b[0m\u001b[1;33m(\u001b[0m\u001b[1;34m\"Unable to convert output to PyTorch tensors format, PyTorch is not installed.\"\u001b[0m\u001b[1;33m)\u001b[0m\u001b[1;33m\u001b[0m\u001b[1;33m\u001b[0m\u001b[0m\n\u001b[0m\u001b[0;32m    713\u001b[0m             \u001b[1;32mimport\u001b[0m \u001b[0mtorch\u001b[0m\u001b[1;33m\u001b[0m\u001b[1;33m\u001b[0m\u001b[0m\n\u001b[0;32m    714\u001b[0m \u001b[1;33m\u001b[0m\u001b[0m\n",
      "\u001b[1;31mImportError\u001b[0m: Unable to convert output to PyTorch tensors format, PyTorch is not installed."
     ]
    }
   ],
   "source": [
    "input_ids = []\n",
    "attention_masks = []\n",
    "\n",
    "for text in text_data:\n",
    "    encoded_text = tokenizer.encode_plus(\n",
    "        text,\n",
    "        add_special_tokens=True,\n",
    "        max_length=128,  # Adjust the maximum sequence length as needed\n",
    "        pad_to_max_length=True,\n",
    "        return_attention_mask=True,\n",
    "        return_tensors='pt'\n",
    "    )\n",
    "    \n",
    "    input_ids.append(encoded_text['input_ids'])\n",
    "    attention_masks.append(encoded_text['attention_mask'])"
   ]
  },
  {
   "cell_type": "code",
   "execution_count": null,
   "metadata": {},
   "outputs": [],
   "source": []
  }
 ],
 "metadata": {
  "kernelspec": {
   "display_name": "Python 3 (ipykernel)",
   "language": "python",
   "name": "python3"
  },
  "language_info": {
   "codemirror_mode": {
    "name": "ipython",
    "version": 3
   },
   "file_extension": ".py",
   "mimetype": "text/x-python",
   "name": "python",
   "nbconvert_exporter": "python",
   "pygments_lexer": "ipython3",
   "version": "3.9.13"
  }
 },
 "nbformat": 4,
 "nbformat_minor": 2
}
